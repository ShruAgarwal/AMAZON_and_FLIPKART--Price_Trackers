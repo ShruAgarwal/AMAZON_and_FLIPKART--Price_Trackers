{
  "nbformat": 4,
  "nbformat_minor": 0,
  "metadata": {
    "colab": {
      "name": "Price_tracker (AMAZON & FLIPKART).ipynb",
      "provenance": [],
      "collapsed_sections": []
    },
    "kernelspec": {
      "name": "python3",
      "display_name": "Python 3"
    },
    "language_info": {
      "name": "python"
    }
  },
  "cells": [
    {
      "cell_type": "code",
      "source": [
        "!pip install emoji"
      ],
      "metadata": {
        "id": "iO1wcfCXOdNQ"
      },
      "execution_count": null,
      "outputs": []
    },
    {
      "cell_type": "markdown",
      "source": [
        "## **Importing Libraries**"
      ],
      "metadata": {
        "id": "6rZNS-PZlwRV"
      }
    },
    {
      "cell_type": "code",
      "source": [
        "import requests\n",
        "import bs4\n",
        "import pandas as pd\n",
        "import emoji  # Just to enhance the final output! ;)"
      ],
      "metadata": {
        "id": "72YcD7aFMwdp"
      },
      "execution_count": null,
      "outputs": []
    },
    {
      "cell_type": "markdown",
      "source": [
        "## **Faking our scraper to look like a regular Web Browser**"
      ],
      "metadata": {
        "id": "oI3SbZEpmfZx"
      }
    },
    {
      "cell_type": "code",
      "source": [
        "HEADERS = {\n",
        "           \"User-Agent\": 'Mozilla/5.0 (Windows NT 10.0; Win64; x64) AppleWebKit/537.36 (KHTML, like Gecko) Chrome/97.0.4692.99 Safari/537.36'\n",
        "          }"
      ],
      "metadata": {
        "id": "BoftqkUwMwNc"
      },
      "execution_count": null,
      "outputs": []
    },
    {
      "cell_type": "markdown",
      "source": [
        "## **AMAZON tracker**"
      ],
      "metadata": {
        "id": "a_WJWSIKnHU_"
      }
    },
    {
      "cell_type": "code",
      "source": [
        "# To track the title and prices of the book's required\n",
        "def amz_search(pages, url):\n",
        "  \n",
        "  # AMAZON Tracking \n",
        "  page = requests.get(url,headers=HEADERS)\n",
        "  soup = bs4.BeautifulSoup(page.content, \"html.parser\")\n",
        " \n",
        "  # To prevent server from crashing while fetching the data\n",
        "  try:\n",
        "    title = soup.find(id=\"productTitle\").get_text().strip()\n",
        "    price = soup.find(\"div\",{\"class\":\"a-column a-span8 a-text-right a-span-last\"}).get_text().strip()\n",
        "    \n",
        "    # The '\\U000XXXXX' are unicodes for emojis being imported from emoji module\n",
        "    print(\"\\n\\U0001F4D9 BOOK -- {0} \\n\\U0001F4C4 NO. OF PAGES : {1} \\n\\nON AMAZON -----\\n\\U0001F4B0 PRICE : {2} \\n\\U0001F517 LINK : {3}\\n\".format(title, pages, price, url))\n",
        "    \n",
        "\n",
        "\n",
        "  except AttributeError:\n",
        "    print(\"Couldn't fetch details from Amazon! \\U0001F641\")"
      ],
      "metadata": {
        "id": "0IH3msQsXSgm"
      },
      "execution_count": null,
      "outputs": []
    },
    {
      "cell_type": "markdown",
      "source": [
        "## **FLIPKART     Tracker**"
      ],
      "metadata": {
        "id": "LZnVZ24c0EZ3"
      }
    },
    {
      "cell_type": "code",
      "source": [
        "def f_search(f_url):\n",
        "  \n",
        "  # Fetching book's prices details from FLIPKART\n",
        "  f_page = requests.get(f_url, headers=HEADERS)\n",
        "  f_soup = bs4.BeautifulSoup(f_page.content, \"html.parser\")\n",
        "\n",
        "  try:\n",
        "    f_price = f_soup.find(\"div\",{\"class\":\"_30jeq3 _16Jk6d\"}).get_text()\n",
        "    print(\"\\nON FLIPKART -----\\n\\U0001F4B0 PRICE : {}\\n\\U0001F517 LINK : {}\".format(f_price, f_url))\n",
        "\n",
        "  except AttributeError:\n",
        "    print(\"No details available from Flipkart! \\U0001F641\")\n"
      ],
      "metadata": {
        "id": "kQUvq-CI0IJq"
      },
      "execution_count": null,
      "outputs": []
    },
    {
      "cell_type": "markdown",
      "source": [
        "## **Main Code**"
      ],
      "metadata": {
        "id": "N1LdD35JoP41"
      }
    },
    {
      "cell_type": "code",
      "source": [
        "# Loading actual data ---\n",
        "df = pd.read_csv(\"Books_data.csv\")\n",
        "\n",
        "# User book choice\n",
        "book = input('Enter name of the Book : ')\n",
        "\n",
        "# Structured book info based on user choice\n",
        "info = df[df['Book Names'] == book]\n",
        "\n",
        "pages = info.iloc[0]['Pages']\n",
        "amz_link = info.iloc[0]['AMZ_URL']\n",
        "f_link = info.iloc[0]['FLPK_URL']\n",
        "\n",
        "# Calling tracker functions -------\n",
        "amz_search(pages, amz_link)\n",
        "\n",
        "f_search(f_link)"
      ],
      "metadata": {
        "id": "1LCfMOPYndiI"
      },
      "execution_count": null,
      "outputs": []
    }
  ]
}